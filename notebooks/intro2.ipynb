{
 "cells": [
  {
   "cell_type": "markdown",
   "metadata": {},
   "source": [
    "# METEOCPY Intro 2 -- Save and Visualize"
   ]
  },
  {
   "cell_type": "markdown",
   "metadata": {},
   "source": [
    "## Imports"
   ]
  },
  {
   "cell_type": "code",
   "execution_count": 11,
   "metadata": {},
   "outputs": [],
   "source": [
    "PATH = '/Users/jim' # replace with the parent director of your meteocpy installation\n",
    "DATA_PATH = '/Users/jim/meteoc' # replace with the parent directory of where you installed data and params"
   ]
  },
  {
   "cell_type": "code",
   "execution_count": 12,
   "metadata": {},
   "outputs": [],
   "source": [
    "import sys\n",
    "sys.path.append(PATH)"
   ]
  },
  {
   "cell_type": "code",
   "execution_count": 13,
   "metadata": {},
   "outputs": [],
   "source": [
    "import meteocpy as mpy\n",
    "from meteocpy.forward import apex\n",
    "from meteocpy import utils\n",
    "from meteocpy.utils import load_params, BiDict\n",
    "\n",
    "import numpy as np\n",
    "import os\n",
    "import matplotlib.pyplot as plt\n",
    "from os.path import join as pjoin\n",
    "\n",
    "from importlib import reload"
   ]
  },
  {
   "cell_type": "code",
   "execution_count": 14,
   "metadata": {},
   "outputs": [],
   "source": [
    "%matplotlib inline"
   ]
  },
  {
   "cell_type": "code",
   "execution_count": 15,
   "metadata": {},
   "outputs": [
    {
     "data": {
      "text/plain": [
       "<module 'meteocpy.utils' from '/Users/jim/meteocpy/utils.py'>"
      ]
     },
     "execution_count": 15,
     "metadata": {},
     "output_type": "execute_result"
    }
   ],
   "source": [
    "# if you change the code and want to run it here with your changes, run this cell first!\n",
    "reload(apex)\n",
    "reload(utils)"
   ]
  },
  {
   "cell_type": "markdown",
   "metadata": {},
   "source": [
    "## Plotting prep"
   ]
  },
  {
   "cell_type": "code",
   "execution_count": 26,
   "metadata": {},
   "outputs": [],
   "source": [
    "from mpl_toolkits.axes_grid1 import make_axes_locatable"
   ]
  },
  {
   "cell_type": "code",
   "execution_count": 41,
   "metadata": {},
   "outputs": [],
   "source": [
    "def plot_frame(res, ind, channel=0, vmax=None, vmin=None, figsize=None, binned='binned'):\n",
    "    tostr = lambda f: \"%.2f\" % f\n",
    "    \n",
    "    wvls_nr = ap.params[binned].cw[illu_bands[ind]].mean(axis=1)\n",
    "    wvls = list(map(tostr, wvls_nr))\n",
    "    \n",
    "    fig, axs = plt.subplots(1, 2, figsize=figsize)\n",
    "    \n",
    "    im = axs[0].matshow(res[ind][channel], aspect='auto', vmax=vmax, vmin=vmin, \n",
    "                        extent=[0, 1000, wvls_nr[-1], wvls_nr[0]])\n",
    "    \n",
    "    divider = make_axes_locatable(axs[0])\n",
    "    cax = divider.append_axes('right', size='1%', pad=0.05)\n",
    "    plt.gcf().colorbar(im, cax=cax)\n",
    "    \n",
    "    axs[1].plot(wvls, res[ind][channel][:, [250, 500, 750]], '-o')\n",
    "    axs[1].set_ylim([np.min(res[ind][channel][:, [250, 500, 750]]) * 0.9, np.max(res[ind][channel][:, [250, 500, 750]]) * 1.1])"
   ]
  },
  {
   "cell_type": "markdown",
   "metadata": {},
   "source": [
    "## Prepare and simulate"
   ]
  },
  {
   "cell_type": "code",
   "execution_count": 16,
   "metadata": {},
   "outputs": [
    {
     "name": "stderr",
     "output_type": "stream",
     "text": [
      "/Users/jim/meteocpy/forward/apex.py:123: UserWarning: WARNING: you loaded unbinned calibration files but meta files are binned. Make sure tocall initialize_srfs with kwarg do_bin=True.\n",
      "  warnings.warn('WARNING: you loaded unbinned calibration files but meta files are binned. Make sure to'\n"
     ]
    }
   ],
   "source": [
    "# Instantiate a sensor from the SRF parameterization and meta variables (see directory for an example)\n",
    "ap = apex.load_apex(unbinned_vnir=pjoin(DATA_PATH, 'params/unbinned'),\n",
    "                    binned_vnir_swir=pjoin(DATA_PATH,'params/binned'),\n",
    "                    binned_meta=pjoin(DATA_PATH,'params/binned_meta'), \n",
    "                    vnir_it=27000, swir_it=15000)"
   ]
  },
  {
   "cell_type": "code",
   "execution_count": 17,
   "metadata": {},
   "outputs": [],
   "source": [
    "# init SRFs\n",
    "init_wvls = np.arange(600, 700, 0.01)\n",
    "ap.initialize_srfs(exact_wvls=init_wvls, \n",
    "                   srf_support_in_sigma=3,\n",
    "                   do_bin=True)"
   ]
  },
  {
   "cell_type": "code",
   "execution_count": 18,
   "metadata": {},
   "outputs": [],
   "source": [
    "# define simulation params\n",
    "# configure simulation\n",
    "simu_config = dict(pad=False, # whether to return the whole frame or \n",
    "                              # only illuminated spectral bands? (note no dc in in non illuminated bands)\n",
    "                   \n",
    "                   part_covered=True, # criterion for a band to be illuminated: overlapping supports is enough\n",
    "                   \n",
    "                   invert=True, # simulation steps\n",
    "                   snr=True, \n",
    "                   dc=True, \n",
    "                   smear=True, \n",
    "                   \n",
    "                   return_binned=False, # binning after forward simulaton is currently not implemented\n",
    "                                        # this should actually be done for physical correctness\n",
    "                   \n",
    "                   run_specs=dict(joblib=False, # joblib activates parallel executuion\n",
    "                                  n_jobs=4, # how many cores\n",
    "                                  batches_per_job=3 , # how many batches per core\n",
    "                                  ),\n",
    "                   \n",
    "                   conv_mode='numba' # whether to use the numba library for convolution (best leave that)\n",
    "                  )"
   ]
  },
  {
   "cell_type": "code",
   "execution_count": 19,
   "metadata": {},
   "outputs": [
    {
     "name": "stderr",
     "output_type": "stream",
     "text": [
      "/Users/jim/miniconda3/envs/meteocpy/lib/python3.6/site-packages/numba/core/ir_utils.py:2031: NumbaPendingDeprecationWarning: \n",
      "Encountered the use of a type that is scheduled for deprecation: type 'reflected list' found for argument 'weights_per_band' of function 'convolve_non_aligned'.\n",
      "\n",
      "For more information visit http://numba.pydata.org/numba-doc/latest/reference/deprecation.html#deprecation-of-reflection-for-list-and-set-types\n",
      "\n",
      "File \"../forward/apex.py\", line 17:\n",
      "@nb.jit(nopython=True)\n",
      "def convolve_non_aligned(inp, weights=None, weights_per_band=None,\n",
      "^\n",
      "\n",
      "  warnings.warn(NumbaPendingDeprecationWarning(msg, loc=loc))\n"
     ]
    }
   ],
   "source": [
    "# Try a simulation with multiple batches and channels, shape [(1, 3), (2, 7), (4, 1)]. \n",
    "# Pay attention to the shapes. Batch dim is not well-defined because we're simulating \n",
    "# with differently sized inp_spectra. So the batch dimension has to be a list (which doesn't\n",
    "# require identical shapes of its elements). Inside the list we have arrays with (channel, wvl).\n",
    "\n",
    "inp_spectrum = [np.array([1e4, 1e5, 1e6]).reshape(1, -1), # note: this is equal to np.array([[1e4, 1e5, 1e6]])\n",
    "                np.array([[1e6, 1e6, 1e6, 1e5, 1e6, 1e6, 1e4], \n",
    "                          [.5e6, .5e6, .5e6, .2e5, .1e6, .1e6, .1e4]]),\n",
    "                np.array([1e3, 1e4, 1e5, 1e6]).reshape(-1, 1)]\n",
    "\n",
    "\n",
    "inp_wvls = [np.arange(650, 653, 1), # the support has to have len 3\n",
    "            np.arange(673, 680, 1), # the support has to have len 7\n",
    "            np.array([697])] # the support has to have len 1\n",
    "\n",
    "res, illu_bands = ap.forward(inp_spectrum=inp_spectrum, inp_wvlens=inp_wvls, **simu_config)"
   ]
  },
  {
   "cell_type": "code",
   "execution_count": 40,
   "metadata": {},
   "outputs": [
    {
     "data": {
      "image/png": "[encoded data removed]",
      "text/plain": [
       "<Figure size 2160x288 with 3 Axes>"
      ]
     },
     "metadata": {
      "needs_background": "light"
     },
     "output_type": "display_data"
    }
   ],
   "source": [
    "%matplotlib inline\n",
    "inds = [1]\n",
    "channel = 1\n",
    "for ind in inds:\n",
    "    plot_frame(res, ind, channel=channel, vmax=None, vmin=None, figsize=(30, 4), binned='binned')"
   ]
  },
  {
   "cell_type": "code",
   "execution_count": null,
   "metadata": {},
   "outputs": [],
   "source": []
  },
  {
   "cell_type": "code",
   "execution_count": null,
   "metadata": {},
   "outputs": [],
   "source": []
  }
 ],
 "metadata": {
  "kernelspec": {
   "display_name": "Python 3",
   "language": "python",
   "name": "python3"
  },
  "language_info": {
   "codemirror_mode": {
    "name": "ipython",
    "version": 3
   },
   "file_extension": ".py",
   "mimetype": "text/x-python",
   "name": "python",
   "nbconvert_exporter": "python",
   "pygments_lexer": "ipython3",
   "version": "3.6.10"
  }
 },
 "nbformat": 4,
 "nbformat_minor": 4
}
